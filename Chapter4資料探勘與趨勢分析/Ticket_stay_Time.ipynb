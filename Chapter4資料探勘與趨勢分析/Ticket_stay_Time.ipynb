{
 "cells": [
  {
   "cell_type": "code",
   "execution_count": 8,
   "id": "f1947d00",
   "metadata": {},
   "outputs": [],
   "source": [
    "import pandas as pd\n",
    "import os\n",
    "import matplotlib.pyplot as plt\n",
    "import numpy as np\n",
    "import sys\n",
    "import seaborn as sns"
   ]
  },
  {
   "cell_type": "code",
   "execution_count": 9,
   "id": "79a6a775",
   "metadata": {},
   "outputs": [],
   "source": [
    "magic_num = 1\n",
    "\n",
    "if magic_num == 0:\n",
    "    source_path = r\"C:/Cody/Research/clean_data/prepare.csv\"\n",
    "    output_graph_file = r\"C:/Cody/Research/Chapter4資料探勘與趨勢分析/TicketSituationDifference_chart/\"\n",
    "elif magic_num == 1:\n",
    "    source_path = r\"D:/Research/clean_data/prepare.csv\"\n",
    "    output_graph_file = r\"D:/Research/Chapter4資料探勘與趨勢分析/TicketSituationDifference_chart/\"\n",
    "else:\n",
    "    print(\"wrong magic num.\")\n",
    "    exit(1)\n",
    "\n",
    "data = pd.read_csv(source_path)"
   ]
  },
  {
   "cell_type": "code",
   "execution_count": 10,
   "id": "addfe3c7",
   "metadata": {},
   "outputs": [],
   "source": [
    "data[\"全時間格式進入時間\"] = pd.to_datetime(data[\"全時間格式進入時間\"], errors=\"coerce\")\n",
    "data[\"全時間格式出場時間\"] = pd.to_datetime(data[\"全時間格式出場時間\"], errors=\"coerce\")\n",
    "# 移除時間缺失與異常值\n",
    "data = data.dropna(subset=[\"全時間格式進入時間\", \"全時間格式出場時間\"])\n",
    "data = data[data[\"全時間格式出場時間\"] > data[\"全時間格式進入時間\"]]\n",
    "\n",
    "# 不須分析機車\n",
    "data = data[data[\"票種\"] != \"學生機車證\"]"
   ]
  },
  {
   "cell_type": "code",
   "execution_count": 11,
   "id": "1ed08808",
   "metadata": {},
   "outputs": [
    {
     "name": "stdout",
     "output_type": "stream",
     "text": [
      "票種清單: ['臨停車' '學生計次汽車' '教職員汽車' '學生長時汽車' '臨時貴賓' '廠商汽車證' '教職員計次' '身障優惠'\n",
      " '退休及校友汽車識別證' '在職專班汽車' '退休及校友臨停' '互惠車輛' '長時廠商汽車' '特殊入校車輛']\n",
      "臨停車: 503024 筆記錄\n",
      "學生計次汽車: 75773 筆記錄\n",
      "教職員汽車: 288993 筆記錄\n",
      "學生長時汽車: 53146 筆記錄\n",
      "臨時貴賓: 31594 筆記錄\n",
      "廠商汽車證: 75293 筆記錄\n",
      "教職員計次: 5711 筆記錄\n",
      "身障優惠: 2285 筆記錄\n",
      "退休及校友汽車識別證: 27704 筆記錄\n",
      "在職專班汽車: 18273 筆記錄\n",
      "退休及校友臨停: 8615 筆記錄\n",
      "互惠車輛: 4329 筆記錄\n",
      "長時廠商汽車: 2530 筆記錄\n",
      "特殊入校車輛: 42 筆記錄\n"
     ]
    }
   ],
   "source": [
    "tag = data[\"票種\"].unique()\n",
    "print(\"票種清單:\", tag)\n",
    "ticket_directory = {}\n",
    "\n",
    "for each_cat in tag:\n",
    "    temp_df = data[data[\"票種\"] == each_cat].copy()  # 創建獨立副本\n",
    "    if temp_df.empty:\n",
    "        print(f\"警告: {each_cat} 無數據，已跳過\")\n",
    "        continue\n",
    "    temp_df.loc[:, \"停留時數_分鐘\"] = (temp_df[\"全時間格式出場時間\"] - temp_df[\"全時間格式進入時間\"]).dt.total_seconds() / 60  # 使用 .loc 賦值\n",
    "    ticket_directory[each_cat] = temp_df\n",
    "    print(f\"{each_cat}: {len(temp_df)} 筆記錄\")"
   ]
  },
  {
   "cell_type": "code",
   "execution_count": 12,
   "id": "9c0990fc",
   "metadata": {},
   "outputs": [
    {
     "name": "stdout",
     "output_type": "stream",
     "text": [
      "臨停車  停留時數_分鐘範圍: 0.02 - 10078.20\n",
      "學生計次汽車  停留時數_分鐘範圍: 0.12 - 10074.25\n",
      "教職員汽車  停留時數_分鐘範圍: 0.02 - 10079.10\n",
      "學生長時汽車  停留時數_分鐘範圍: 0.15 - 10066.58\n",
      "臨時貴賓  停留時數_分鐘範圍: 0.10 - 10022.88\n",
      "廠商汽車證  停留時數_分鐘範圍: 0.05 - 10074.47\n",
      "教職員計次  停留時數_分鐘範圍: 0.35 - 7754.07\n",
      "身障優惠  停留時數_分鐘範圍: 1.13 - 2390.27\n",
      "退休及校友汽車識別證  停留時數_分鐘範圍: 0.23 - 9814.00\n",
      "在職專班汽車  停留時數_分鐘範圍: 0.10 - 8920.25\n",
      "退休及校友臨停  停留時數_分鐘範圍: 1.63 - 1862.87\n",
      "互惠車輛  停留時數_分鐘範圍: 0.27 - 6615.18\n",
      "長時廠商汽車  停留時數_分鐘範圍: 0.30 - 8998.30\n",
      "特殊入校車輛  停留時數_分鐘範圍: 0.50 - 7166.38\n"
     ]
    }
   ],
   "source": [
    "for cat in ticket_directory:\n",
    "    print(f\"{cat}  停留時數_分鐘範圍: {ticket_directory[cat]['停留時數_分鐘'].min():.2f} - {ticket_directory[cat]['停留時數_分鐘'].max():.2f}\")"
   ]
  },
  {
   "cell_type": "markdown",
   "id": "b79835a3",
   "metadata": {},
   "source": [
    "# 開始對各式票種分析停留時間分布"
   ]
  },
  {
   "cell_type": "code",
   "execution_count": 13,
   "id": "92cd0a93",
   "metadata": {},
   "outputs": [
    {
     "name": "stdout",
     "output_type": "stream",
     "text": [
      "Bins 數量: 64\n"
     ]
    }
   ],
   "source": [
    "# 設定中文字型\n",
    "plt.rcParams['font.family'] = ['Microsoft JhengHei']\n",
    "plt.rcParams['axes.unicode_minus'] = False  # 確保負號顯示正確\n",
    "\n",
    "# 確保資料夾存在\n",
    "output_dir = \"Ticket_stay_time\"\n",
    "os.makedirs(output_dir, exist_ok=True)\n",
    "\n",
    "# 定義直方圖的 bin（15 分鐘 = 0.25 小時）\n",
    "bin_width = 0.25\n",
    "short_start, short_end = 0.5, 1\n",
    "regular_start, regular_end = 6, 8\n",
    "# 換算為 index\n",
    "short_start_idx = int(short_start / bin_width)\n",
    "short_end_idx = int(short_end / bin_width)\n",
    "regular_start_idx = int(regular_start / bin_width)\n",
    "regular_end_idx = int(regular_end / bin_width)\n",
    "\n",
    "max_hours = 16  # 統計到 16 小時\n",
    "bins = np.arange(0, max_hours + bin_width, bin_width)\n",
    "print(\"Bins 數量:\", len(bins) - 1)\n",
    "\n",
    "\n",
    "\n",
    "for cat in ticket_directory:\n",
    "    # 計算該票種總資料數\n",
    "    total_count = len(ticket_directory[cat])\n",
    "    # 計算落在 16 小時內的資料數（即 bins 範圍內）\n",
    "    stay_hours = ticket_directory[cat]['停留時數_分鐘'] / 60\n",
    "    in_range_mask = (stay_hours >= 0) & (stay_hours < max_hours)\n",
    "    in_range_count = in_range_mask.sum()\n",
    "    \n",
    "\n",
    "    # 計算百分比\n",
    "    in_range_percent = (in_range_count / total_count )* 100 if total_count > 0 else 0\n",
    "\n",
    "    # 計算每筆資料對應的區間\n",
    "    ticket_directory[cat]['停留時數_分鐘'] = ticket_directory[cat]['停留時數_分鐘'].astype(float)\n",
    "    hist, edges = pd.cut(stay_hours, bins=bins, right=False, include_lowest=True, retbins=True)\n",
    "\n",
    "\n",
    "    # 計算每個區間的數量\n",
    "    counts = hist.value_counts(sort=False)\n",
    "\n",
    "    # 畫圖\n",
    "    plt.figure(figsize=(10, 6))\n",
    "    counts.plot(kind='bar', width=0.8, color='skyblue', edgecolor='black')\n",
    "    plt.title(f'{cat} 停留時間統計', fontsize=16)\n",
    "    plt.xlabel('停留時間區間 (小時)', fontsize=12)\n",
    "    plt.ylabel('數量', fontsize=12)\n",
    "\n",
    "    # 設置 x 軸刻度（每 0.25 小時一格，但只標整數小時）\n",
    "    tick_positions = np.arange(0, max_hours + bin_width, bin_width)  # 每 15 分鐘一格\n",
    "    tick_labels = [str(int(x)) if x.is_integer() else \"\" for x in tick_positions]  # 只標整數小時\n",
    "\n",
    "    # 對應 bar chart 的每個 bin，用 index 設定 xticks（從 0 開始）\n",
    "    plt.xticks(np.arange(len(tick_positions)), tick_labels, rotation=0)\n",
    "\n",
    "    # 設定 x 軸刻度與標籤\n",
    "    plt.xticks(np.arange(len(tick_positions)), tick_labels)\n",
    "\n",
    "    plt.text(0.95, 0.90, f\"0-16 小時數據占比：{in_range_percent:.2f}%\", \n",
    "                 transform=plt.gca().transAxes, fontsize=12, \n",
    "                 verticalalignment='top', horizontalalignment='right',\n",
    "                 bbox=dict(facecolor='white', alpha=0.8, edgecolor='black'))\n",
    "    plt.tight_layout()\n",
    "    # 匯出圖檔\n",
    "    save_path = os.path.join(output_dir, f\"{cat}_停留時間統計.png\")\n",
    "    plt.savefig(save_path, dpi=300)\n",
    "    plt.close()\n"
   ]
  },
  {
   "cell_type": "markdown",
   "id": "381d2a22",
   "metadata": {},
   "source": [
    "## 聚焦後段趨勢"
   ]
  },
  {
   "cell_type": "code",
   "execution_count": 14,
   "id": "51eb2f2d",
   "metadata": {},
   "outputs": [],
   "source": [
    "plt.rcParams['font.family'] = ['Microsoft JhengHei']\n",
    "plt.rcParams['axes.unicode_minus'] = False  # 確保負號顯示正確\n",
    "# 每次迴圈一個票種\n",
    "for cat in ticket_directory:\n",
    "    # 原始資料換算為小時\n",
    "    stay_hours = ticket_directory[cat]['停留時數_分鐘'] / 60\n",
    "    stay_hours = stay_hours[stay_hours >= 1]  # ✅ 只保留 ≥ 1 小時\n",
    "\n",
    "    total_count = len(ticket_directory[cat])  # 全部資料（用來算百分比）\n",
    "    in_range_mask = (stay_hours >= 1) & (stay_hours < max_hours)\n",
    "    in_range_count = in_range_mask.sum()\n",
    "    in_range_percent = (in_range_count / total_count) * 100 if total_count > 0 else 0\n",
    "\n",
    "    # 計算每筆資料對應的區間（cut 會自動忽略不在 bins 的值）\n",
    "    hist, edges = pd.cut(stay_hours, bins=bins, right=False, include_lowest=True, retbins=True)\n",
    "    counts = hist.value_counts(sort=False)\n",
    "\n",
    "    # 畫圖\n",
    "    plt.figure(figsize=(10, 6))\n",
    "    counts.plot(kind='bar', width=0.8, color='skyblue', edgecolor='black')\n",
    "    plt.title(f'{cat} 停留時間統計（僅顯示 >= 1 小時）', fontsize=16)\n",
    "    plt.xlabel('停留時間區間 (小時)', fontsize=12)\n",
    "    plt.ylabel('數量', fontsize=12)\n",
    "\n",
    "    # 設定 x 軸：每 0.25 小時一格，整數與 0.5 顯示數字\n",
    "    tick_positions = np.arange(0, max_hours + bin_width, bin_width)\n",
    "    tick_labels = [str(int(x)) if x % 1 == 0 else str(x) if x % 1 == 0.5 else \"\" for x in tick_positions]\n",
    "    plt.xticks(np.arange(len(tick_positions)), tick_labels, rotation=0)\n",
    "\n",
    "    plt.text(0.95, 0.90, f\"1-16 小時數據占比：{in_range_percent:.2f}%\", \n",
    "             transform=plt.gca().transAxes, fontsize=12, \n",
    "             verticalalignment='top', horizontalalignment='right',\n",
    "             bbox=dict(facecolor='white', alpha=0.8, edgecolor='black'))\n",
    "    plt.tight_layout()\n",
    "    save_path = os.path.join(output_dir, f\"{cat}_停留時間統計(僅顯示1小時以上).png\")\n",
    "    plt.savefig(save_path, dpi=300)\n",
    "    plt.close()\n"
   ]
  }
 ],
 "metadata": {
  "kernelspec": {
   "display_name": "Python 3",
   "language": "python",
   "name": "python3"
  },
  "language_info": {
   "codemirror_mode": {
    "name": "ipython",
    "version": 3
   },
   "file_extension": ".py",
   "mimetype": "text/x-python",
   "name": "python",
   "nbconvert_exporter": "python",
   "pygments_lexer": "ipython3",
   "version": "3.12.7"
  }
 },
 "nbformat": 4,
 "nbformat_minor": 5
}
