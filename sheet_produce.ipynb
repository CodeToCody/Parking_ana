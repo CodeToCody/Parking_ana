{
 "cells": [
  {
   "cell_type": "markdown",
   "metadata": {},
   "source": [
    "## 函數庫"
   ]
  },
  {
   "cell_type": "code",
   "execution_count": 2,
   "metadata": {},
   "outputs": [
    {
     "name": "stdout",
     "output_type": "stream",
     "text": [
      "        車號      票種      子場站 進出及付費狀態  校正狀態    進站設備    出站設備        進入日  \\\n",
      "0  KLC0802     臨停車  光復校區停車場     已出站  比對一樣  北大門入口外  北大門出口內 2024-10-15   \n",
      "1  AMG3703  學生計次汽車  光復校區停車場     已出站  比對一樣  南大門入口外  北大門出口內 2024-10-15   \n",
      "2   1060MX   教職員汽車  光復校區停車場     已出站  比對一樣  北大門入口外  北大門出口外 2024-10-15   \n",
      "3   9826TU   教職員汽車  光復校區停車場     已出站  比對一樣  北大門入口外  北大門出口外 2024-10-15   \n",
      "4  KLN5097     臨停車  光復校區停車場     已出站  比對一樣  北大門入口外  北大門出口內 2024-10-15   \n",
      "\n",
      "       進入時間        出場日      出場時間   停留時數 計價代碼                 紀錄時間  \\\n",
      "0  23:41:25 2024-10-15  23:44:42   0.05  NaN  2024-10-15 23:44:42   \n",
      "1  23:40:38 2024-10-17  20:22:00  44.69  F11  2024-10-17 20:22:35   \n",
      "2  23:39:43 2024-10-16  11:07:00  11.45  L12  2024-10-16 11:07:46   \n",
      "3  23:39:19 2024-10-16  02:05:00   2.43  L12  2024-10-16 02:05:19   \n",
      "4  23:34:17 2024-10-15  23:44:12   0.17  NaN  2024-10-15 23:44:12   \n",
      "\n",
      "            全時間格式進入時間           全時間格式出場時間  \n",
      "0 2024-10-15 23:41:25 2024-10-15 23:44:42  \n",
      "1 2024-10-15 23:40:38 2024-10-17 20:22:00  \n",
      "2 2024-10-15 23:39:43 2024-10-16 11:07:00  \n",
      "3 2024-10-15 23:39:19 2024-10-16 02:05:00  \n",
      "4 2024-10-15 23:34:17 2024-10-15 23:44:12  \n"
     ]
    }
   ],
   "source": [
    "import os \n",
    "import glob\n",
    "import pandas as pd\n",
    "import numpy as np\n",
    "from datetime import datetime\n",
    "import matplotlib.pyplot as plt\n",
    "\n",
    "data = pd.read_csv(r\"D:\\Research\\clean_data\\prepare.csv\")\n",
    "data[\"全時間格式進入時間\"] = pd.to_datetime(data[\"全時間格式進入時間\"],errors = \"coerce\")\n",
    "data[\"全時間格式出場時間\"] = pd.to_datetime(data[\"全時間格式出場時間\"],errors = \"coerce\")\n",
    "data[\"進入日\"] = pd.to_datetime(data[\"進入日\"], errors=\"coerce\")\n",
    "data[\"出場日\"] = pd.to_datetime(data[\"出場日\"], errors=\"coerce\")\n",
    "\n",
    "print(data.head())"
   ]
  },
  {
   "cell_type": "markdown",
   "metadata": {},
   "source": [
    "### 篩選工作日"
   ]
  },
  {
   "cell_type": "code",
   "execution_count": 3,
   "metadata": {},
   "outputs": [],
   "source": [
    "# 國定假日列表\n",
    "public_holidays = [\n",
    "    \"2024-02-28\", # 和平紀念\n",
    "    \"2024-04-04\", # 清明\n",
    "    \"2024-04-05\", # 清明\n",
    "    \"2024-06-10\", # 端午\n",
    "]\n",
    "# 清除六日\n",
    "# 前半年\n",
    "clean_data = data[(data[\"進入日\"] >= \"2024-02-17\") & (data[\"進入日\"] < \"2024-08-01\")].copy()\n",
    "public_holidays = pd.to_datetime([\"2024-02-28\", \"2024-04-04\"])  # 確保是 datetime64\n",
    "\n",
    "# 判斷時間是否位於工作日\n",
    "clean_data.loc[:, \"entry_weekday\"] = clean_data[\"進入日\"].dt.weekday\n",
    "clean_data.loc[:, \"exit_weekday\"] = clean_data[\"出場日\"].dt.weekday\n",
    "clean_data.loc[:, \"entry_holiday\"] = clean_data[\"全時間格式進入時間\"].isin(public_holidays)\n",
    "clean_data.loc[:, \"exit_holiday\"] = clean_data[\"全時間格式出場時間\"].isin(public_holidays)\n",
    "\n",
    "# 移除進出時間皆為假日的紀錄\n",
    "filtered_data = clean_data[~(\n",
    "    ((clean_data[\"entry_weekday\"] >= 5) | clean_data[\"entry_holiday\"]) &  # 進場時間為週末或國定假日\n",
    "    ((clean_data[\"exit_weekday\"] >= 5) | clean_data[\"exit_holiday\"])     # 出場時間為週末或國定假日\n",
    ")]\n",
    "\n",
    "filtered_data = filtered_data.drop(columns=[\"entry_weekday\", \"exit_weekday\", \"entry_holiday\", \"exit_holiday\",\"校正狀態\",\"進入日\",\"出場日\",\"進入時間\",\"出場時間\",\"子場站\",\"進站設備\",\"出站設備\",\"計價代碼\",\"紀錄時間\"])\n",
    "\n",
    "filtered_data = filtered_data[filtered_data[\"停留時數\"].notna()]\n",
    "filtered_data = filtered_data[filtered_data[\"車號\"].str.len().between(4,8)]\n",
    "filtered_data.to_csv(r\"D:\\Research\\Report_sheet\\工作日統計.csv\",index=False)"
   ]
  },
  {
   "cell_type": "code",
   "execution_count": 4,
   "metadata": {},
   "outputs": [
    {
     "name": "stdout",
     "output_type": "stream",
     "text": [
      "       車號   票種  過夜次數\n",
      "0  0000UO  臨停車     1\n",
      "1  0000VI  臨停車     1\n",
      "2  0001A8  臨停車     0\n",
      "3   0001D  臨停車     1\n",
      "4  0001W7  臨停車     0\n"
     ]
    }
   ],
   "source": [
    "filtered_data[\"是否過夜\"] = (filtered_data[\"全時間格式進入時間\"].dt.hour < 23) & \\\n",
    "                 (filtered_data[\"全時間格式出場時間\"].dt.hour >= 7) & \\\n",
    "                 (filtered_data[\"全時間格式出場時間\"].dt.date > filtered_data[\"全時間格式進入時間\"].dt.date)\n",
    "\n",
    "# 計算過夜次數\n",
    "overnight_counts = filtered_data.groupby(\"車號\")[\"是否過夜\"].sum().reset_index()\n",
    "\n",
    "# **獲取每台車的票種**\n",
    "ticket_types = filtered_data.groupby(\"車號\")[\"票種\"].first().reset_index()\n",
    "\n",
    "# **合併過夜次數與票種資訊**\n",
    "result = pd.merge(overnight_counts, ticket_types, on=\"車號\", how=\"left\")\n",
    "\n",
    "# **重新排序欄位**\n",
    "result = result[[\"車號\", \"票種\", \"是否過夜\"]]\n",
    "result.rename(columns={\"是否過夜\": \"過夜次數\"}, inplace=True)\n",
    "\n",
    "# **輸出 CSV**\n",
    "result.to_csv(r\"D:\\Research\\Report_sheet\\過夜次數統計_含票種.csv\", index=False)\n",
    "\n",
    "# **顯示前幾筆資料**\n",
    "print(result.head())"
   ]
  },
  {
   "cell_type": "code",
   "execution_count": 5,
   "metadata": {},
   "outputs": [
    {
     "name": "stdout",
     "output_type": "stream",
     "text": [
      "過夜次數區間       0-9  10-19  20-29  30-39  40-49  50-59  60-69  70-79  80-89  \\\n",
      "票種                                                                         \n",
      "互惠車輛          29      0      1      0      0      0      0      0      0   \n",
      "在職專班汽車        13      0      0      0      0      0      0      0      0   \n",
      "學生機車證          0      0      0      0      0      0      0      0      0   \n",
      "學生計次汽車       192     52     27     12      7      1      3      1      0   \n",
      "學生長時汽車        95     57     47     16      6     10      1      1      2   \n",
      "廠商汽車證         70      7      4      2      3      0      0      0      0   \n",
      "教職員汽車        383     67     43     25     19      8      2      5      1   \n",
      "教職員計次          7      0      0      0      0      0      0      0      0   \n",
      "特殊入校車輛         8      0      0      0      0      0      0      0      0   \n",
      "臨停車         4271     21      6      2      1      2      1      0      0   \n",
      "臨時貴賓          53      1      2      1      0      3      0      0      0   \n",
      "身障優惠           4      1      0      0      0      0      0      0      0   \n",
      "退休及校友汽車識別證     6      0      0      0      0      0      0      0      0   \n",
      "退休及校友臨停        4      0      0      0      0      0      0      0      0   \n",
      "長時廠商汽車         5      0      0      0      0      0      0      0      0   \n",
      "總計          5140    206    130     58     36     24      7      7      3   \n",
      "\n",
      "過夜次數區間      90-99  100+  \n",
      "票種                       \n",
      "互惠車輛            0     0  \n",
      "在職專班汽車          0     0  \n",
      "學生機車證           0     0  \n",
      "學生計次汽車          1     0  \n",
      "學生長時汽車          2     1  \n",
      "廠商汽車證           0     0  \n",
      "教職員汽車           2     0  \n",
      "教職員計次           0     0  \n",
      "特殊入校車輛          0     0  \n",
      "臨停車             0     1  \n",
      "臨時貴賓            1     1  \n",
      "身障優惠            0     0  \n",
      "退休及校友汽車識別證      0     0  \n",
      "退休及校友臨停         0     0  \n",
      "長時廠商汽車          0     0  \n",
      "總計              6     3  \n"
     ]
    },
    {
     "name": "stderr",
     "output_type": "stream",
     "text": [
      "C:\\Users\\cody\\AppData\\Local\\Temp\\ipykernel_20208\\2864720923.py:11: FutureWarning: The default of observed=False is deprecated and will be changed to True in a future version of pandas. Pass observed=False to retain current behavior or observed=True to adopt the future default and silence this warning.\n",
      "  pivot_table = result.groupby([\"票種\", \"過夜次數區間\"]).size().unstack(fill_value=0)\n"
     ]
    }
   ],
   "source": [
    "result = pd.read_csv(r\"D:\\Research\\Report_sheet\\過夜次數統計_含票種.csv\")\n",
    "\n",
    "# 設定過夜次數的區間\n",
    "bins = [0, 9, 19, 29, 39, 49, 59, 69, 79, 89, 99, 999]  # 定義區間\n",
    "labels = [\"0-9\", \"10-19\", \"20-29\", \"30-39\", \"40-49\", \"50-59\", \"60-69\", \"70-79\", \"80-89\", \"90-99\", \"100+\"]\n",
    "\n",
    "# 使用 cut 函數將過夜次數分組\n",
    "result[\"過夜次數區間\"] = pd.cut(result[\"過夜次數\"], bins=bins, labels=labels, right=True)\n",
    "\n",
    "# 進行分組統計，計算每個票種在各區間中的用戶數\n",
    "pivot_table = result.groupby([\"票種\", \"過夜次數區間\"]).size().unstack(fill_value=0)\n",
    "pivot_table.loc[\"總計\"] = pivot_table.sum(axis=0)\n",
    "# 顯示結果\n",
    "print(pivot_table)\n",
    "\n",
    "# 輸出為 CSV\n",
    "pivot_table.to_excel(r\"D:\\Research\\Report_sheet\\票種過夜次數區間統計.xlsx\")\n"
   ]
  },
  {
   "cell_type": "code",
   "execution_count": 6,
   "metadata": {},
   "outputs": [
    {
     "name": "stdout",
     "output_type": "stream",
     "text": [
      "       車號      票種  過夜次數    總停留時數\n",
      "0  0063B7  學生長時汽車    21  1461.51\n",
      "1  0116LG  學生計次汽車    36   855.66\n",
      "2  0126VU  學生長時汽車    35  2145.68\n",
      "3  0315KW   教職員汽車    29  1507.76\n",
      "4  0436TS   教職員汽車    15  2498.14\n"
     ]
    }
   ],
   "source": [
    "# 篩選過夜次數 >= 10 的用戶\n",
    "target_users = result[result[\"過夜次數\"] >= 10][\"車號\"]\n",
    "\n",
    "# 確保停留時數是數值型態，避免後續計算出錯\n",
    "filtered_data[\"停留時數\"] = pd.to_numeric(filtered_data[\"停留時數\"], errors=\"coerce\")\n",
    "\n",
    "# 4. 篩選出目標用戶的進出紀錄\n",
    "target_data = filtered_data[filtered_data[\"車號\"].isin(target_users)]\n",
    "\n",
    "# 5. 按車號計算總停留時數\n",
    "total_stay_hours = target_data.groupby(\"車號\")[\"停留時數\"].sum().reset_index().round(2)\n",
    "\n",
    "# 6. 合併票種與過夜次數資訊\n",
    "final_result = pd.merge(total_stay_hours, result[[\"車號\", \"票種\", \"過夜次數\"]], on=\"車號\", how=\"left\")\n",
    "\n",
    "# 7. 重新排列欄位並命名\n",
    "final_result = final_result[[\"車號\", \"票種\", \"過夜次數\", \"停留時數\"]]\n",
    "final_result.rename(columns={\"停留時數\": \"總停留時數\"}, inplace=True)\n",
    "\n",
    "# 8. 輸出結果到 CSV\n",
    "final_result.to_csv(r\"D:\\Research\\Report_sheet\\過夜10次以上用戶總停留時數.csv\", index=False)\n",
    "\n",
    "# 9. 顯示前幾筆資料\n",
    "print(final_result.head())"
   ]
  },
  {
   "cell_type": "code",
   "execution_count": 13,
   "metadata": {},
   "outputs": [
    {
     "name": "stdout",
     "output_type": "stream",
     "text": [
      "✅ 完成！車號各月份停車總時數已計算並存檔\n"
     ]
    }
   ],
   "source": [
    "target_cars = final_result[\"車號\"]\n",
    "\n",
    "filtered_target_data = filtered_data[filtered_data[\"車號\"].isin(target_cars)].copy()\n",
    "\n",
    "filtered_target_data[\"月份\"] = filtered_target_data[\"全時間格式進入時間\"].dt.month\n",
    "monthly_parking_hours = filtered_target_data.groupby([\"車號\", \"票種\", \"月份\"])[\"停留時數\"].sum().unstack(fill_value=0).round(1)\n",
    "monthly_parking_hours.columns = [f\"{month}月停車總時數\" for month in monthly_parking_hours.columns]\n",
    "monthly_parking_hours[\"總計停留時數\"] = monthly_parking_hours.sum(axis=1)\n",
    "final_table = pd.merge(final_result[[\"車號\", \"票種\"]], monthly_parking_hours, on=[\"車號\", \"票種\"], how=\"left\").fillna(0)\n",
    "\n",
    "\n",
    "\n",
    "# 儲存為 CSV\n",
    "final_table.to_excel(r\"D:\\Research\\Report_sheet\\各月份停車總時數.xlsx\", index=False)\n",
    "\n",
    "print(\"✅ 完成！車號各月份停車總時數已計算並存檔\")\n",
    "\n"
   ]
  }
 ],
 "metadata": {
  "kernelspec": {
   "display_name": "Python 3",
   "language": "python",
   "name": "python3"
  },
  "language_info": {
   "codemirror_mode": {
    "name": "ipython",
    "version": 3
   },
   "file_extension": ".py",
   "mimetype": "text/x-python",
   "name": "python",
   "nbconvert_exporter": "python",
   "pygments_lexer": "ipython3",
   "version": "3.12.7"
  }
 },
 "nbformat": 4,
 "nbformat_minor": 2
}
