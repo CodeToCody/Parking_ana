{
 "cells": [
  {
   "cell_type": "markdown",
   "id": "10ec1f4f",
   "metadata": {},
   "source": [
    "# Start\n",
    "```\n",
    "筆電之路徑為 C:/Cody/Research/clean_data/prepare.csv\n",
    "桌機之路徑為 D:/Research/clean_data/prepare.csv\n",
    "```"
   ]
  },
  {
   "cell_type": "code",
   "execution_count": 6,
   "id": "f98bd664",
   "metadata": {},
   "outputs": [
    {
     "name": "stdout",
     "output_type": "stream",
     "text": [
      "Requirement already satisfied: tqdm in c:\\users\\cody\\appdata\\local\\programs\\python\\python310\\lib\\site-packages (4.67.1)\n",
      "Requirement already satisfied: colorama in c:\\users\\cody\\appdata\\roaming\\python\\python310\\site-packages (from tqdm) (0.4.6)\n"
     ]
    }
   ],
   "source": [
    "select_mode = 0\n",
    "# 0 for notebook ver\n",
    "# 1 for desktop ver\n",
    "\n",
    "if select_mode == 0:\n",
    "    file_path = r\"C:/Cody/Research/clean_data/prepare.csv\"\n",
    "    output_path = r\"C:/Cody/Research/temp_file\"\n",
    "elif select_mode == 1:\n",
    "    file_path = r\"D:/Research/prepare.csv\"\n",
    "    output_path = r\"D:/Research/temp_file\"\n",
    "else:\n",
    "    print(\"YoU SelecT ThE WronG MoDe!\")\n",
    "    exit(1)"
   ]
  },
  {
   "cell_type": "markdown",
   "id": "c66cfaa6",
   "metadata": {},
   "source": [
    "## 匯入函數庫"
   ]
  },
  {
   "cell_type": "code",
   "execution_count": 12,
   "id": "5cfd67d6",
   "metadata": {},
   "outputs": [],
   "source": [
    "# import sys\n",
    "# !{sys.executable} -m pip install tqdm\n",
    "from datetime import datetime, timedelta\n",
    "import pandas as pd\n",
    "import tqdm\n",
    "import matplotlib.pyplot as plt\n",
    "import os "
   ]
  },
  {
   "cell_type": "markdown",
   "id": "65f285c3",
   "metadata": {},
   "source": [
    "## 資料格式化"
   ]
  },
  {
   "cell_type": "code",
   "execution_count": 16,
   "id": "6dc14c95",
   "metadata": {},
   "outputs": [
    {
     "name": "stdout",
     "output_type": "stream",
     "text": [
      "數據預覽:\n",
      "        車號      票種      子場站 進出及付費狀態  校正狀態    進站設備    出站設備         進入日  \\\n",
      "0  KLC0802     臨停車  光復校區停車場     已出站  比對一樣  北大門入口外  北大門出口內  2024/10/15   \n",
      "1  AMG3703  學生計次汽車  光復校區停車場     已出站  比對一樣  南大門入口外  北大門出口內  2024/10/15   \n",
      "2   1060MX   教職員汽車  光復校區停車場     已出站  比對一樣  北大門入口外  北大門出口外  2024/10/15   \n",
      "3   9826TU   教職員汽車  光復校區停車場     已出站  比對一樣  北大門入口外  北大門出口外  2024/10/15   \n",
      "4  KLN5097     臨停車  光復校區停車場     已出站  比對一樣  北大門入口外  北大門出口內  2024/10/15   \n",
      "\n",
      "       進入時間         出場日      出場時間   停留時數 計價代碼                 紀錄時間  \\\n",
      "0  23:41:25  2024/10/15  23:44:42   0.05  NaN  2024-10-15 23:44:42   \n",
      "1  23:40:38  2024/10/17  20:22:00  44.69  F11  2024-10-17 20:22:35   \n",
      "2  23:39:43  2024/10/16  11:07:00  11.45  L12  2024-10-16 11:07:46   \n",
      "3  23:39:19  2024/10/16  02:05:00   2.43  L12  2024-10-16 02:05:19   \n",
      "4  23:34:17  2024/10/15  23:44:12   0.17  NaN  2024-10-15 23:44:12   \n",
      "\n",
      "            全時間格式進入時間           全時間格式出場時間  \n",
      "0 2024-10-15 23:41:25 2024-10-15 23:44:42  \n",
      "1 2024-10-15 23:40:38 2024-10-17 20:22:00  \n",
      "2 2024-10-15 23:39:43 2024-10-16 11:07:00  \n",
      "3 2024-10-15 23:39:19 2024-10-16 02:05:00  \n",
      "4 2024-10-15 23:34:17 2024-10-15 23:44:12  \n",
      "缺失值檢查:\n",
      "資料數量: 1167780\n",
      "進入時間缺失: 0\n",
      "出場時間缺失: 42653\n",
      "進入缺失資料占比: 0.00%\n",
      "出場缺失資料占比: 3.65%\n"
     ]
    }
   ],
   "source": [
    "source_data = pd.read_csv(file_path)\n",
    "\n",
    "source_data[\"全時間格式進入時間\"] = pd.to_datetime(source_data[\"全時間格式進入時間\"])\n",
    "source_data[\"全時間格式出場時間\"] = pd.to_datetime(source_data[\"全時間格式出場時間\"])\n",
    "# 檢查數據\n",
    "print(\"數據預覽:\")\n",
    "print(source_data.head())\n",
    "print(\"缺失值檢查:\")\n",
    "print(\"資料數量:\", len(source_data))\n",
    "print(\"進入時間缺失:\", source_data[\"全時間格式進入時間\"].isna().sum())\n",
    "print(\"出場時間缺失:\", source_data[\"全時間格式出場時間\"].isna().sum())\n",
    "\n",
    "total_rows = len(source_data)\n",
    "entry_missing_ratio = (source_data[\"全時間格式進入時間\"].isna().sum() / total_rows) * 100\n",
    "exit_missing_ratio = (source_data[\"全時間格式出場時間\"].isna().sum() / total_rows) * 100\n",
    "print(f\"進入缺失資料占比: {entry_missing_ratio:.2f}%\")\n",
    "print(f\"出場缺失資料占比: {exit_missing_ratio:.2f}%\")"
   ]
  }
 ],
 "metadata": {
  "kernelspec": {
   "display_name": "Python 3",
   "language": "python",
   "name": "python3"
  },
  "language_info": {
   "codemirror_mode": {
    "name": "ipython",
    "version": 3
   },
   "file_extension": ".py",
   "mimetype": "text/x-python",
   "name": "python",
   "nbconvert_exporter": "python",
   "pygments_lexer": "ipython3",
   "version": "3.12.2"
  }
 },
 "nbformat": 4,
 "nbformat_minor": 5
}
