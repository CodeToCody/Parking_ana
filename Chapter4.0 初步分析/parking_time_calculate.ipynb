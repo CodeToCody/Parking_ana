{
 "cells": [
  {
   "cell_type": "markdown",
   "id": "10ec1f4f",
   "metadata": {},
   "source": [
    "# Start\n",
    "```\n",
    "筆電之路徑為 C:/Cody/Research/clean_data/prepare.csv\n",
    "桌機之路徑為 D:/Research/clean_data/prepare.csv\n",
    "```"
   ]
  },
  {
   "cell_type": "code",
   "execution_count": 4,
   "id": "f98bd664",
   "metadata": {},
   "outputs": [],
   "source": [
    "select_mode = 1\n",
    "# 0 for notebook ver\n",
    "# 1 for desktop ver\n",
    "\n",
    "if select_mode == 0:\n",
    "    file_path = r\"C:/Cody/Research/clean_data/prepare.csv\"\n",
    "    output_path = r\"C:/Cody/Research/temp_file\"\n",
    "elif select_mode == 1:\n",
    "    file_path = r\"D:/Research/clean_data/prepare.csv\"\n",
    "    output_path = r\"D:/Research/temp_file\"\n",
    "else:\n",
    "    print(\"YoU SelecT ThE WronG MoDe!\")\n",
    "    exit(1)"
   ]
  },
  {
   "cell_type": "markdown",
   "id": "c66cfaa6",
   "metadata": {},
   "source": [
    "## 匯入函數庫"
   ]
  },
  {
   "cell_type": "code",
   "execution_count": 1,
   "id": "5cfd67d6",
   "metadata": {},
   "outputs": [],
   "source": [
    "# import sys\n",
    "# !{sys.executable} -m pip install tqdm\n",
    "from datetime import datetime, timedelta\n",
    "import pandas as pd\n",
    "import tqdm\n",
    "import matplotlib.pyplot as plt\n",
    "import os "
   ]
  },
  {
   "cell_type": "markdown",
   "id": "65f285c3",
   "metadata": {},
   "source": [
    "## 資料格式化"
   ]
  },
  {
   "cell_type": "code",
   "execution_count": 5,
   "id": "6dc14c95",
   "metadata": {},
   "outputs": [
    {
     "name": "stdout",
     "output_type": "stream",
     "text": [
      "數據預覽:\n",
      "        車號      票種      子場站 進出及付費狀態  校正狀態    進站設備    出站設備         進入日  \\\n",
      "0  KLC0802     臨停車  光復校區停車場     已出站  比對一樣  北大門入口外  北大門出口內  2024/10/15   \n",
      "1  AMG3703  學生計次汽車  光復校區停車場     已出站  比對一樣  南大門入口外  北大門出口內  2024/10/15   \n",
      "2   1060MX   教職員汽車  光復校區停車場     已出站  比對一樣  北大門入口外  北大門出口外  2024/10/15   \n",
      "3   9826TU   教職員汽車  光復校區停車場     已出站  比對一樣  北大門入口外  北大門出口外  2024/10/15   \n",
      "4  KLN5097     臨停車  光復校區停車場     已出站  比對一樣  北大門入口外  北大門出口內  2024/10/15   \n",
      "\n",
      "       進入時間         出場日      出場時間   停留時數 計價代碼                 紀錄時間  \\\n",
      "0  23:41:25  2024/10/15  23:44:42   0.05  NaN  2024-10-15 23:44:42   \n",
      "1  23:40:38  2024/10/17  20:22:00  44.69  F11  2024-10-17 20:22:35   \n",
      "2  23:39:43  2024/10/16  11:07:00  11.45  L12  2024-10-16 11:07:46   \n",
      "3  23:39:19  2024/10/16  02:05:00   2.43  L12  2024-10-16 02:05:19   \n",
      "4  23:34:17  2024/10/15  23:44:12   0.17  NaN  2024-10-15 23:44:12   \n",
      "\n",
      "            全時間格式進入時間           全時間格式出場時間  \n",
      "0 2024-10-15 23:41:25 2024-10-15 23:44:42  \n",
      "1 2024-10-15 23:40:38 2024-10-17 20:22:00  \n",
      "2 2024-10-15 23:39:43 2024-10-16 11:07:00  \n",
      "3 2024-10-15 23:39:19 2024-10-16 02:05:00  \n",
      "4 2024-10-15 23:34:17 2024-10-15 23:44:12  \n",
      "缺失值檢查:\n",
      "資料數量: 1167780\n",
      "進入時間缺失: 0\n",
      "出場時間缺失: 42653\n",
      "進入缺失資料占比: 0.00%\n",
      "出場缺失資料占比: 3.65%\n"
     ]
    }
   ],
   "source": [
    "source_data = pd.read_csv(file_path)\n",
    "\n",
    "source_data[\"全時間格式進入時間\"] = pd.to_datetime(source_data[\"全時間格式進入時間\"])\n",
    "source_data[\"全時間格式出場時間\"] = pd.to_datetime(source_data[\"全時間格式出場時間\"])\n",
    "# 檢查數據\n",
    "print(\"數據預覽:\")\n",
    "print(source_data.head())\n",
    "print(\"缺失值檢查:\")\n",
    "print(\"資料數量:\", len(source_data))\n",
    "print(\"進入時間缺失:\", source_data[\"全時間格式進入時間\"].isna().sum())\n",
    "print(\"出場時間缺失:\", source_data[\"全時間格式出場時間\"].isna().sum())\n",
    "\n",
    "total_rows = len(source_data)\n",
    "entry_missing_ratio = (source_data[\"全時間格式進入時間\"].isna().sum() / total_rows) * 100\n",
    "exit_missing_ratio = (source_data[\"全時間格式出場時間\"].isna().sum() / total_rows) * 100\n",
    "print(f\"進入缺失資料占比: {entry_missing_ratio:.2f}%\")\n",
    "print(f\"出場缺失資料占比: {exit_missing_ratio:.2f}%\")"
   ]
  },
  {
   "cell_type": "markdown",
   "id": "65b0a9bf",
   "metadata": {},
   "source": [
    "## 建置紀錄表格"
   ]
  },
  {
   "cell_type": "code",
   "execution_count": null,
   "id": "8786142e",
   "metadata": {},
   "outputs": [],
   "source": [
    "# 先創建時間索引 30T 30min h 之類\n",
    "time_index = pd.date_range(start=\"2024-01-01 00:00:00\",end=\"2024-07-31 23:00:00\",freq = \"15min\")\n",
    "\n",
    "# 欄位對照\n",
    "weekday_names = ['星期一', '星期二', '星期三', '星期四', '星期五', '星期六', '星期日']\n",
    "columns = [f\"{weekday_names}_{suffix}\" for weekday in weekday_names for suffix in ['進','出','停留']]\n",
    "\n",
    "# 初始化表格 第一個參數 data=0 表示所有 cell 都被預設為 0\n",
    "# index 為索引\n",
    "# columns 設定欄位名稱\n",
    "record_table = pd.DataFrame(0,index=time_index,columns=columns)\n",
    "\n",
    "skipped_count = 0      # 多少資料被略過\n",
    "out_of_range_count = 0 # 是否有資料之紀錄超出範圍\n",
    "\n",
    "for _,row in tqdm(source_data.iterrows(),total=len(source_data),desc=\"處理停車紀錄\"):\n",
    "    enter_time = row[\"全時間格式進入時間\"]\n",
    "    leave_time = row[\"全時間格是出場時間\"]\n",
    "\n",
    "    # 跳過空值\n",
    "    if pd.isna(enter_time) or pd.isna(leave_time):\n",
    "        skipped_count += 1\n",
    "        continue\n",
    "\n",
    "    # 跳過時間紀錄異常(出場早於或等於入場)\n",
    "    if leave_time <= enter_time:\n",
    "        skipped_count += 1\n",
    "        tqdm.write(f\"警告：車號 {row.get('車號', '未知')} 出場時間 {leave_time} 早於或等於進入時間 {enter_time}，跳過\")\n",
    "        continue\n",
    "\n",
    "    # 超短時間進出(異常)\n",
    "    if (leave_time - enter_time) < pd.Timedelta(seconds=60):\n",
    "        skipped_count += 1\n",
    "        tqdm.write(f\"警告：車號 {row.get('車號', '未知')} 停留小於60秒，跳過\")\n",
    "        continue\n",
    "\n",
    "    # 檢查時間範圍\n",
    "    if enter_time < time_index[0] or leave_time > time_index[-1]:\n",
    "        out_of_range_count += 1\n",
    "        tqdm.write(f\"警告：車號 {row.get('車號', '未知')} 時間超出範圍（{enter_time} 至 {leave_time}），跳過\")\n",
    "        continue\n",
    "\n",
    "    '''\n",
    "        統計進出場次數\n",
    "    '''\n",
    "    # 進場\n",
    "    enter_point = enter_time.floor(\"15min\")\n",
    "    enter_weekday = weekday_names[enter_point.weekday()]\n",
    "    # at 去快速存取或修改 dataframe 中單個 cell 的值 DataFrame.at[row_label, column_label]\n",
    "    record_table.at[enter_point, f\"{enter_point}_進\"] += 1\n",
    "    # 出場\n",
    "    leave_point = enter_time.floor(\"15min\")\n",
    "    leave_weekday = weekday_names[leave_point.weekday()]\n",
    "    record_table.at[leave_point, f\"{leave_point}_出\"] += 1\n",
    "\n",
    "    '''*** 分時停留數量統計 ***'''\n",
    "    # 停留時間未超過30分鐘不納入停留車統計\n",
    "    # 我認為臨停族群非停留車探討之主要目標 (教職員、學生之長時停車情形多，以較長時停車作為主要目標)\n",
    "    if leave_point - enter_point < pd.Timedelta(minutes=30):\n",
    "        skipped_count += 1\n",
    "        tqdm.write(f\"車號 {row.get('車號', '未知')} 停留時間未超過30分鐘，跳過\")\n",
    "        continue\n",
    "\n",
    "    '''\n",
    "        假設：\n",
    "            enter_point = 2024-01-01 13:10:00\n",
    "            leave_point = 2024-01-01 13:40:00\n",
    "            停留時間：13:40:00 - 13:10:00 = 30 分鐘\n",
    "        結果（自動對齊到 15 分鐘間隔）：\n",
    "            [2024-01-01 13:15:00, 2024-01-01 13:30:00]\n",
    "            \n",
    "        注意：13:10:00 會被對齊到 13:15:00，13:40:00 會被對齊到 13:30:00\n",
    "    '''\n",
    "    if (leave_point - enter_point) >= pd.Timedelta(minutes=15):  # 停留超過 15 分鐘計入該時段\n",
    "        duration_periods = pd.date_range(start=enter_point, end=leave_point, freq='15min')\n",
    "    else:\n",
    "        duration_periods = pd.date_range(start=enter_point, end=leave_point - pd.Timedelta(minutes=15), freq='15min')\n",
    "\n",
    "    for stay_time in duration_periods:\n",
    "        if stay_time in record_table.index:\n",
    "            stay_weekday = weekday_names[stay_time.weekday()]\n",
    "            record_table.at[stay_time, f\"{stay_weekday}_停留\"] += 1 \n",
    "\n",
    "\n",
    "\n",
    "\n",
    "\n"
   ]
  }
 ],
 "metadata": {
  "kernelspec": {
   "display_name": "Python 3",
   "language": "python",
   "name": "python3"
  },
  "language_info": {
   "codemirror_mode": {
    "name": "ipython",
    "version": 3
   },
   "file_extension": ".py",
   "mimetype": "text/x-python",
   "name": "python",
   "nbconvert_exporter": "python",
   "pygments_lexer": "ipython3",
   "version": "3.12.2"
  }
 },
 "nbformat": 4,
 "nbformat_minor": 5
}
